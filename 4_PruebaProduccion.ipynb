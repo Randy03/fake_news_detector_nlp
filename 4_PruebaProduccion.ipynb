{
 "cells": [
  {
   "cell_type": "code",
   "execution_count": 1,
   "id": "0169017f-50b4-44d4-a81c-753d87420617",
   "metadata": {},
   "outputs": [],
   "source": [
    "import pandas as pd\n",
    "from sklearn.linear_model import PassiveAggressiveClassifier\n",
    "from sklearn.feature_extraction.text import TfidfVectorizer\n",
    "from custom_transformer import TextCleanerTransformer\n",
    "from sklearn.pipeline import Pipeline\n",
    "import pickle"
   ]
  },
  {
   "cell_type": "code",
   "execution_count": 7,
   "id": "71f72ac2-fa84-4916-87a7-0344946745a4",
   "metadata": {},
   "outputs": [],
   "source": [
    "news = '''More than 62,000 illegal immigrants evaded Border Patrol agents in March, averaging about 2,000 a day, according to multiple Customs and Border Protection (CBP) sources – showing the extent to which Border Patrol agents are already being overwhelmed by the massive number of migrants trying to get into the United States. Per those same sources there have been more than 300,000 known gotaways migrants who were not apprehended or turned themselves in and who got past agents -- since fiscal year 2022 began on October 1st. For comparison, former Border Patrol Chief Rodney Scott said there had been approximately 400,000 gotaways in the entirety of FY 2021.Known gotaways are migrants that are seen on cameras, sensors and other means but there is no manpower to get to. Agents will also used a method called \"cutting sign\" in which they use a chain link fence to smooth out the surface of a dirt road – coming back later to observe foot prints. \n",
    "The sources point out that the true number of getaways is likely much higher, because these numbers only account for the ones they know about. The sources told Fox that Del Rio Sector has the most gotaways with about 700 a day, followed by Tucson Sector with over 500 a day.\n",
    "The massive numbers are the latest indicator of a surging migrant crisis on track to eclipse last year, as the Biden administration reportedly moves to end Title 42 public health protections that allow agents to quickly expel migrants at the border. Title 42 was used to expel more than half of the more than 164,000 migrants encountered in February.\n",
    "The 164,973 encounters was up dramatically from 101,099 in Feb. 2021 – and the number is expected to rise in the months ahead.\n",
    "Border Patrol Chief Raul Ortiz on Tuesday said that the U.S. is currently on track to hit one million migrant encounters so far in Fiscal Year 2022, compared to 1.7 million in all of FY 2021. Ortiz described a situation on the ground in which Border Patrol is short on staff, is facing additional challenges due to the ongoing COVID-19 pandemic and where \"every sector is busier than they were back in ‘21.\" He also said that agents have encountered migrants from 157 different countries.\n",
    "The Biden administration is reported to be planning to end Title 42 in May, which has led to fears within the administration and among lawmakers and Border Patrol agents that it will encourage even more migrants to try to get into the U.S.\n",
    "Multiple Border Patrol officials have told Fox News that ending Title 42 would lead to what one agent described as a \"surge on top of a surge\" as word spreads among migrants that they will not be deported. There are also believed to be a considerable number of migrants waiting in Mexican cities waiting for Title 42 to drop.'''"
   ]
  },
  {
   "cell_type": "code",
   "execution_count": 8,
   "id": "ec966dc8-e7c4-4a83-baa0-4c511678a355",
   "metadata": {},
   "outputs": [],
   "source": [
    "fake_news = '''Lawyers for the New York State Attorney General's Office said they are nearly finished with their civil investigation into the Trump Organization, after taking steps to unravel the real estate company's assets that they described as being as complex as a \"Russian nesting doll.\"\n",
    "They still want to search two cell phones belonging to former President Donald Trump and the laptop and desktop of his longtime executive assistant Rhona Graff, but investigators told a judge this week they're moving quickly.\n",
    "\"The process is near the end,\" Kevin Wallace, senior enforcement counsel at the New York St\n",
    "A third-party firm hired to search the Trump Organization's files had identified 151 custodians, or people or entities, that might have documents sought by the attorney general's office, but Wallace said they are focusing on the \"most important outstanding pieces of information\" because the clock is ticking for it to file a lawsuit.\n",
    "The statute of limitations for various laws under consideration goes back several years, but the tolling agreement with the Trump Organization that paused the clock expires on Saturday. Even as the agreement expires, it could still be several weeks before the attorney general's office decides its next step in the investigation.\n",
    "The comments came during a court hearing Monday, when New York state Judge Arthur Engoron held Trump in civil contempt and fined him $10,000 per day for failing to comply with a subpoena for documents relating to New York's investigation into the Trump Organization's finances.ate Attorney General's Office, said Monday.\n",
    "Lawyers for the New York State Attorney General's Office provided a glimpse into their investigation, which has spanned three years, after the judge asked them to explain what is taking so long and where it is heading.\n",
    "\"Given the upcoming end of the tolling agreement we will likely need to bring some kind of enforcement action in the near future to preserve our rights,\" Wallace said. He noted that before they file the attorney general's office has agreed to meet with the Trump Organization attorneys and \"allow them to make their case\" and discuss what any \"appropriate resolutions might look like.\"\n",
    "In addition to the tolling agreement's expiration, evidence may become stale and memories may fade, Wallace noted. \"Counsel is in favor of moving as quickly as we can.\"\n",
    "The civil investigation has been hanging over Trump for several years. He has been focused on the investigation that threatens his family business, calling Attorney General Letitia James \"racist\" and accusing her of pursuing him for political gain.\n",
    "The attorney general's office has already said in court filings that it believes there were misleading statements and omissions in Trump's financial statements that were provided to lenders and insurers and used for tax benefits. Trump has called the investigation a witch hunt, and he and the company have denied any wrongdoing.\n",
    "The judge previously ordered Trump, Donald Trump Jr. and Ivanka Trump to sit for depositions. The Trumps have appealed and it's unclear when a decision will come. Eric Trump was deposed in 2020 and asserted his Fifth Amendment right against self-incrimination more than 500 times. Last month, at the attorney general's request, the judge ordered the Trump Organization to comply with subpoenas by Friday.\n",
    "Wallace said that since the Trump Organization isn't cooperating with the investigation, the office started off with an \"unguided tour\" using the financial statements provided to Congress by Trump's former personal attorney Michael Cohen in February 2019. What the lawyers found, he said, was a company that doesn't have the processes and controls normally found in regulated industries, like banking. The Trump real estate business -- which is large going by the amount of golf courses, condos, hotels and office space it owns -- is run as a small family operation.\n",
    "\"The company relies more on its people than its systems,\" Wallace said. There are 500 different entities, millions of dollars moving around and different accounting practices and statements depending on the business unit, he said.\n",
    "The attorney general's office served the first of six subpoenas to the Trump Organization in December 2019, Alina Habba, an attorney for Trump, said at the hearing Monday. To date, she said, millions of pages of documents have been turned over and 13 employees of the Trump Organization interviewed. Those include Allen Weisselberg, who served as chief financial officer for decades; Alan Garten, the Trump Organization's general counsel; and Jeffrey McConney, the controller; along with McConney's deputy and other employees in finance, according to court filings.\n",
    "One example of the complexity of the business is Trump's golf course in Jupiter, Florida. Wallace said they've been pulling on strands to understand whether it was \"presented fairly\" in Trump's financial statements.\n",
    "He said the golf club, which was purchased in 2012 for $5 million, was bundled in the financial statement in a $2 billion bucket of club assets. There were no footnotes detailing what was included in the bundle. The supporting papers indicated Trump valued the course at $46 million. Next, investigators searched to determine where the additional $41 million value came from, which he said prompted them to head down additional investigative paths.\n",
    "\"These issues repeat across clubs,\" Wallace said. \"Each of these assets is like a Russian nesting doll.\"\n",
    "Habba said, \"There were multiple layers and multiple people because that's how real estate companies operate.\"\n",
    "The financial statements at the heart of the attorney general's investigation, she said, were an unaudited compilation by a family-owned company.\n",
    "\"These are sophisticated banks and companies,\" she said. \"No one was lending us money without their own vetting.\"\n",
    "\"Quite honestly, I would love to go into the particulars of my client's properties, some of which are grossly undervalued, but I don't think we're at that stage yet,\" Habba argued.\n",
    "'''"
   ]
  },
  {
   "cell_type": "code",
   "execution_count": 9,
   "id": "d5f08a5e-8bbb-459e-9724-cf36240577ef",
   "metadata": {},
   "outputs": [],
   "source": [
    "data = pd.Series([news,fake_news])"
   ]
  },
  {
   "cell_type": "code",
   "execution_count": 10,
   "id": "9fa6c1dc-c4d4-46d9-aa2a-d80d7323b33c",
   "metadata": {},
   "outputs": [],
   "source": [
    "pipeline = pickle.load(open('pipeline', 'rb'))"
   ]
  },
  {
   "cell_type": "code",
   "execution_count": 13,
   "id": "414c762e-0000-4780-bfaf-75ed7c362ae3",
   "metadata": {},
   "outputs": [],
   "source": [
    "prediction = pipeline.predict(data)"
   ]
  },
  {
   "cell_type": "code",
   "execution_count": 18,
   "id": "ffca6cfa-838f-49bc-9d01-cf69a887b180",
   "metadata": {},
   "outputs": [
    {
     "name": "stdout",
     "output_type": "stream",
     "text": [
      "La noticia real tomada de Fox news es REAL\n",
      "La noticia falsa tomada de CNN es FAKE\n"
     ]
    }
   ],
   "source": [
    "print(f'La noticia real tomada de Fox news es {\"REAL\" if prediction[0] == 0 else \"FAKE\"}')\n",
    "print(f'La noticia falsa tomada de CNN es {\"REAL\" if prediction[1] == 0 else \"FAKE\"}')"
   ]
  },
  {
   "cell_type": "code",
   "execution_count": null,
   "id": "43ef97d6",
   "metadata": {},
   "outputs": [],
   "source": []
  }
 ],
 "metadata": {
  "interpreter": {
   "hash": "14611386fa2cd4265c4f0b62a048cd6d8d2bc09cf37ba48879354d3817581274"
  },
  "kernelspec": {
   "display_name": "Python [conda env:nlp]",
   "language": "python",
   "name": "python3"
  },
  "language_info": {
   "codemirror_mode": {
    "name": "ipython",
    "version": 3
   },
   "file_extension": ".py",
   "mimetype": "text/x-python",
   "name": "python",
   "nbconvert_exporter": "python",
   "pygments_lexer": "ipython3",
   "version": "3.9.7"
  }
 },
 "nbformat": 4,
 "nbformat_minor": 5
}
