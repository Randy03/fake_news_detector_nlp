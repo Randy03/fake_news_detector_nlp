{
 "cells": [
  {
   "cell_type": "code",
   "execution_count": 1,
   "id": "e863d044-1c23-4ad5-9d07-b60dc58781ed",
   "metadata": {},
   "outputs": [],
   "source": [
    "import pandas as pd\n",
    "import seaborn as sns\n",
    "\n",
    "\n",
    "from sklearn.feature_extraction.text import TfidfVectorizer\n",
    "from matplotlib import pyplot as plt \n",
    "from sklearn.model_selection import train_test_split, GridSearchCV, RandomizedSearchCV\n",
    "from sklearn.metrics import ConfusionMatrixDisplay,accuracy_score,confusion_matrix, roc_curve, auc, silhouette_score, recall_score, precision_score,roc_auc_score, precision_recall_curve, f1_score,plot_confusion_matrix\n",
    "from sklearn.linear_model import PassiveAggressiveClassifier\n",
    "from sklearn.pipeline import Pipeline\n",
    "from custom_transformer import TextCleanerTransformer\n",
    "\n",
    "import pickle"
   ]
  },
  {
   "cell_type": "code",
   "execution_count": 2,
   "id": "e211a792-3775-4afb-95b0-41788d814ac5",
   "metadata": {},
   "outputs": [],
   "source": [
    "data = pd.read_csv('fake_or_real_cleaned.csv')"
   ]
  },
  {
   "cell_type": "code",
   "execution_count": 3,
   "id": "459ed412-268a-42e7-9831-ceef2a5abf7b",
   "metadata": {},
   "outputs": [],
   "source": [
    "pipeline = Pipeline([\n",
    "    (\"text\", TextCleanerTransformer()),\n",
    "    (\"tfidf\", TfidfVectorizer()),\n",
    "    (\"clf\", PassiveAggressiveClassifier())\n",
    "])"
   ]
  },
  {
   "cell_type": "code",
   "execution_count": 4,
   "id": "247b91ea-11f0-4340-b022-f964f549e581",
   "metadata": {},
   "outputs": [],
   "source": [
    "X_train, X_test, y_train, y_test = train_test_split(data['text'],data['label'], random_state=0)"
   ]
  },
  {
   "cell_type": "code",
   "execution_count": 5,
   "id": "0d99edbf-ee97-4d8e-8468-49542047cb10",
   "metadata": {},
   "outputs": [
    {
     "data": {
      "text/plain": [
       "Pipeline(steps=[('text', TextCleanerTransformer()),\n",
       "                ('tfidf', TfidfVectorizer()),\n",
       "                ('clf', PassiveAggressiveClassifier())])"
      ]
     },
     "execution_count": 5,
     "metadata": {},
     "output_type": "execute_result"
    }
   ],
   "source": [
    "pipeline.fit(X_train,y_train)"
   ]
  },
  {
   "cell_type": "code",
   "execution_count": 6,
   "id": "fe7940c6-0e35-49be-8087-26e9b3ac7882",
   "metadata": {},
   "outputs": [
    {
     "data": {
      "text/plain": [
       "0.9194673430564363"
      ]
     },
     "execution_count": 6,
     "metadata": {},
     "output_type": "execute_result"
    }
   ],
   "source": [
    "pipeline.score(X_test,y_test)"
   ]
  },
  {
   "cell_type": "code",
   "execution_count": 7,
   "id": "f76fa62c-e65a-46e7-8437-8bc45c9ba9be",
   "metadata": {},
   "outputs": [
    {
     "name": "stdout",
     "output_type": "stream",
     "text": [
      "Fitting 5 folds for each of 35 candidates, totalling 175 fits\n"
     ]
    },
    {
     "data": {
      "text/plain": [
       "RandomizedSearchCV(estimator=Pipeline(steps=[('text', TextCleanerTransformer()),\n",
       "                                             ('tfidf', TfidfVectorizer()),\n",
       "                                             ('clf',\n",
       "                                              PassiveAggressiveClassifier())]),\n",
       "                   n_iter=35, n_jobs=-1,\n",
       "                   param_distributions={'clf__C': (1.0, 1.5, 2.0),\n",
       "                                        'clf__early_stopping': (True, False),\n",
       "                                        'clf__max_iter': (500, 1000, 2000),\n",
       "                                        'tfidf__max_df': (0.5, 0.75, 1.0),\n",
       "                                        'tfidf__max_features': (None, 5000,\n",
       "                                                                10000, 50000),\n",
       "                                        'tfidf__ngram_range': ((1, 1), (1, 2)),\n",
       "                                        'tfidf__norm': ('l1', 'l2'),\n",
       "                                        'tfidf__use_idf': (True, False)},\n",
       "                   verbose=1)"
      ]
     },
     "execution_count": 7,
     "metadata": {},
     "output_type": "execute_result"
    }
   ],
   "source": [
    "parameters = {\n",
    "    \"tfidf__max_df\": (0.5, 0.75, 1.0),\n",
    "    \"tfidf__max_features\": (None, 5000, 10000, 50000),\n",
    "    \"tfidf__ngram_range\": ((1, 1), (1, 2)),  # unigrams or bigrams\n",
    "    \"tfidf__use_idf\": (True, False),\n",
    "    \"tfidf__norm\": ('l1', 'l2'),\n",
    "    \"clf__C\": (1.0,1.5,2.0,),\n",
    "    \"clf__max_iter\": (500,1000, 2000),\n",
    "    \"clf__early_stopping\": (True,False)\n",
    "}\n",
    "\n",
    "cv = RandomizedSearchCV(pipeline, parameters, n_jobs=-1, verbose=1,n_iter=35)\n",
    "cv.fit(X_train, y_train)"
   ]
  },
  {
   "cell_type": "code",
   "execution_count": 8,
   "id": "d7b9a4d0-dd6d-4c8e-9bc1-9085965223f1",
   "metadata": {
    "tags": []
   },
   "outputs": [
    {
     "data": {
      "text/plain": [
       "{'memory': None,\n",
       " 'steps': [('text', TextCleanerTransformer()),\n",
       "  ('tfidf',\n",
       "   TfidfVectorizer(max_df=0.75, max_features=50000, ngram_range=(1, 2))),\n",
       "  ('clf', PassiveAggressiveClassifier(C=2.0, early_stopping=True))],\n",
       " 'verbose': False,\n",
       " 'text': TextCleanerTransformer(),\n",
       " 'tfidf': TfidfVectorizer(max_df=0.75, max_features=50000, ngram_range=(1, 2)),\n",
       " 'clf': PassiveAggressiveClassifier(C=2.0, early_stopping=True),\n",
       " 'tfidf__analyzer': 'word',\n",
       " 'tfidf__binary': False,\n",
       " 'tfidf__decode_error': 'strict',\n",
       " 'tfidf__dtype': numpy.float64,\n",
       " 'tfidf__encoding': 'utf-8',\n",
       " 'tfidf__input': 'content',\n",
       " 'tfidf__lowercase': True,\n",
       " 'tfidf__max_df': 0.75,\n",
       " 'tfidf__max_features': 50000,\n",
       " 'tfidf__min_df': 1,\n",
       " 'tfidf__ngram_range': (1, 2),\n",
       " 'tfidf__norm': 'l2',\n",
       " 'tfidf__preprocessor': None,\n",
       " 'tfidf__smooth_idf': True,\n",
       " 'tfidf__stop_words': None,\n",
       " 'tfidf__strip_accents': None,\n",
       " 'tfidf__sublinear_tf': False,\n",
       " 'tfidf__token_pattern': '(?u)\\\\b\\\\w\\\\w+\\\\b',\n",
       " 'tfidf__tokenizer': None,\n",
       " 'tfidf__use_idf': True,\n",
       " 'tfidf__vocabulary': None,\n",
       " 'clf__C': 2.0,\n",
       " 'clf__average': False,\n",
       " 'clf__class_weight': None,\n",
       " 'clf__early_stopping': True,\n",
       " 'clf__fit_intercept': True,\n",
       " 'clf__loss': 'hinge',\n",
       " 'clf__max_iter': 1000,\n",
       " 'clf__n_iter_no_change': 5,\n",
       " 'clf__n_jobs': None,\n",
       " 'clf__random_state': None,\n",
       " 'clf__shuffle': True,\n",
       " 'clf__tol': 0.001,\n",
       " 'clf__validation_fraction': 0.1,\n",
       " 'clf__verbose': 0,\n",
       " 'clf__warm_start': False}"
      ]
     },
     "execution_count": 8,
     "metadata": {},
     "output_type": "execute_result"
    }
   ],
   "source": [
    "cv.best_estimator_.get_params()"
   ]
  },
  {
   "cell_type": "markdown",
   "id": "d84710c4-0da9-4a3c-a84e-8506f1e9f17c",
   "metadata": {},
   "source": [
    "Metricas"
   ]
  },
  {
   "cell_type": "code",
   "execution_count": 9,
   "id": "9270a60d-7c4e-4766-a92e-07e2b91760cd",
   "metadata": {},
   "outputs": [
    {
     "name": "stdout",
     "output_type": "stream",
     "text": [
      "Accuracy: 0.9289790741915028\n"
     ]
    }
   ],
   "source": [
    "print(f'Accuracy: {cv.score(X_test,y_test)}')"
   ]
  },
  {
   "cell_type": "code",
   "execution_count": 10,
   "id": "8134e976-4830-47b6-9d2d-6cdf2036cb09",
   "metadata": {},
   "outputs": [],
   "source": [
    "predictions = cv.predict(X_test)"
   ]
  },
  {
   "cell_type": "code",
   "execution_count": 11,
   "id": "96ab4f59-ad72-4c09-af72-0e6a241e2b10",
   "metadata": {},
   "outputs": [
    {
     "name": "stdout",
     "output_type": "stream",
     "text": [
      "Precision: 0.9263420724094882\n",
      "Recall: 0.9333333333333333\n",
      "F1: 0.9298245614035088\n"
     ]
    }
   ],
   "source": [
    "print(f'Precision: {precision_score(y_test,predictions)}')\n",
    "print(f'Recall: {recall_score(y_test,predictions)}')\n",
    "print(f'F1: {f1_score(y_test,predictions)}')"
   ]
  },
  {
   "cell_type": "markdown",
   "id": "890bd267-b577-48c5-a2fa-b16d3f5cfc73",
   "metadata": {},
   "source": [
    "Matriz de confusion"
   ]
  },
  {
   "cell_type": "code",
   "execution_count": 12,
   "id": "4b2d0cde-378c-406d-a74e-90f4f4a5e989",
   "metadata": {},
   "outputs": [
    {
     "data": {
      "text/plain": [
       "<sklearn.metrics._plot.confusion_matrix.ConfusionMatrixDisplay at 0x29432246b48>"
      ]
     },
     "execution_count": 12,
     "metadata": {},
     "output_type": "execute_result"
    },
    {
     "data": {
      "image/png": "[encoded data removed]",
      "text/plain": [
       "<Figure size 432x288 with 2 Axes>"
      ]
     },
     "metadata": {
      "needs_background": "light"
     },
     "output_type": "display_data"
    }
   ],
   "source": [
    "ConfusionMatrixDisplay.from_predictions(y_test, predictions,normalize='true')"
   ]
  },
  {
   "cell_type": "markdown",
   "id": "3b5ef73b-18de-42cf-85b6-3650edba5a62",
   "metadata": {},
   "source": [
    "Guardar modelo"
   ]
  },
  {
   "cell_type": "code",
   "execution_count": 13,
   "id": "f0b5d1fc-37e9-450f-977b-7e66f7c972c6",
   "metadata": {},
   "outputs": [],
   "source": [
    "pickle.dump(cv.best_estimator_, open('pipeline', 'wb'))"
   ]
  },
  {
   "cell_type": "code",
   "execution_count": null,
   "id": "c5b28173-7ac7-4963-9ab9-2cafa07853c0",
   "metadata": {},
   "outputs": [],
   "source": []
  }
 ],
 "metadata": {
  "kernelspec": {
   "display_name": "Python [conda env:nlp]",
   "language": "python",
   "name": "conda-env-nlp-py"
  },
  "language_info": {
   "codemirror_mode": {
    "name": "ipython",
    "version": 3
   },
   "file_extension": ".py",
   "mimetype": "text/x-python",
   "name": "python",
   "nbconvert_exporter": "python",
   "pygments_lexer": "ipython3",
   "version": "3.7.11"
  }
 },
 "nbformat": 4,
 "nbformat_minor": 5
}
