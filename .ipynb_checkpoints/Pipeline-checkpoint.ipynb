{
 "cells": [
  {
   "cell_type": "code",
   "execution_count": 11,
   "id": "e863d044-1c23-4ad5-9d07-b60dc58781ed",
   "metadata": {},
   "outputs": [],
   "source": [
    "import pandas as pd\n",
    "import seaborn as sns\n",
    "import nltk\n",
    "\n",
    "from sklearn.feature_extraction.text import TfidfVectorizer\n",
    "from nltk.stem import WordNetLemmatizer\n",
    "from nltk.tokenize import word_tokenize\n",
    "import string\n",
    "\n",
    "from matplotlib import pyplot as plt \n",
    "from sklearn.model_selection import train_test_split, GridSearchCV\n",
    "\n",
    "from sklearn.linear_model import PassiveAggressiveClassifier\n",
    "from sklearn.metrics import accuracy_score\n",
    "from sklearn.base import BaseEstimator, TransformerMixin\n",
    "from sklearn.pipeline import Pipeline\n",
    "\n",
    "import pickle"
   ]
  },
  {
   "cell_type": "code",
   "execution_count": 2,
   "id": "e211a792-3775-4afb-95b0-41788d814ac5",
   "metadata": {},
   "outputs": [],
   "source": [
    "data = pd.read_csv('fake_or_real_cleaned.csv')"
   ]
  },
  {
   "cell_type": "code",
   "execution_count": 4,
   "id": "be0b62ac-24a2-48b8-8c83-71ee60a2bdfa",
   "metadata": {},
   "outputs": [],
   "source": [
    "class TextTransformer(BaseEstimator, TransformerMixin):\n",
    "    def fit(self, X, y=None):\n",
    "        return self\n",
    "\n",
    "    def transform(self, X, y=None):\n",
    "        X = X.str.lower().str.strip()\n",
    "        translator = str.maketrans('', '', string.punctuation+'’‘—“”–')\n",
    "        X = X.map(lambda x: x.strip().lower().translate(translator))\n",
    "        stopwords = nltk.corpus.stopwords.words('english')\n",
    "        wordnet_lemmatizer = WordNetLemmatizer()\n",
    "        X = X.map(word_tokenize).apply(lambda x: [word for word in x if word not in stopwords])\n",
    "        X = X.apply(lambda x: [wordnet_lemmatizer.lemmatize(w, pos=\"v\") for w in x])\n",
    "        X = X.apply(lambda x: ' '.join(x)).to_numpy()\n",
    "        return X"
   ]
  },
  {
   "cell_type": "code",
   "execution_count": 7,
   "id": "459ed412-268a-42e7-9831-ceef2a5abf7b",
   "metadata": {},
   "outputs": [],
   "source": [
    "pipeline = Pipeline([\n",
    "    (\"text\", TextTransformer()),\n",
    "    (\"tfidf\", TfidfVectorizer()),\n",
    "    (\"clf\", PassiveAggressiveClassifier())\n",
    "])"
   ]
  },
  {
   "cell_type": "code",
   "execution_count": 8,
   "id": "247b91ea-11f0-4340-b022-f964f549e581",
   "metadata": {},
   "outputs": [],
   "source": [
    "X_train, X_test, y_train, y_test = train_test_split(data['text'],data['label'], random_state=0)"
   ]
  },
  {
   "cell_type": "code",
   "execution_count": 9,
   "id": "0d99edbf-ee97-4d8e-8468-49542047cb10",
   "metadata": {},
   "outputs": [
    {
     "data": {
      "text/plain": [
       "Pipeline(steps=[('text', TextTransformer()), ('tfidf', TfidfVectorizer()),\n",
       "                ('clf', PassiveAggressiveClassifier())])"
      ]
     },
     "execution_count": 9,
     "metadata": {},
     "output_type": "execute_result"
    }
   ],
   "source": [
    "pipeline.fit(X_train,y_train)"
   ]
  },
  {
   "cell_type": "code",
   "execution_count": 10,
   "id": "fe7940c6-0e35-49be-8087-26e9b3ac7882",
   "metadata": {},
   "outputs": [
    {
     "data": {
      "text/plain": [
       "0.922003804692454"
      ]
     },
     "execution_count": 10,
     "metadata": {},
     "output_type": "execute_result"
    }
   ],
   "source": [
    "pipeline.score(X_test,y_test)"
   ]
  },
  {
   "cell_type": "code",
   "execution_count": 13,
   "id": "f0b5d1fc-37e9-450f-977b-7e66f7c972c6",
   "metadata": {},
   "outputs": [],
   "source": [
    "pickle.dump(pipeline, open('pipeline', 'wb'))"
   ]
  },
  {
   "cell_type": "code",
   "execution_count": null,
   "id": "c5b28173-7ac7-4963-9ab9-2cafa07853c0",
   "metadata": {},
   "outputs": [],
   "source": []
  }
 ],
 "metadata": {
  "kernelspec": {
   "display_name": "Python [conda env:nlp]",
   "language": "python",
   "name": "conda-env-nlp-py"
  },
  "language_info": {
   "codemirror_mode": {
    "name": "ipython",
    "version": 3
   },
   "file_extension": ".py",
   "mimetype": "text/x-python",
   "name": "python",
   "nbconvert_exporter": "python",
   "pygments_lexer": "ipython3",
   "version": "3.7.11"
  }
 },
 "nbformat": 4,
 "nbformat_minor": 5
}
