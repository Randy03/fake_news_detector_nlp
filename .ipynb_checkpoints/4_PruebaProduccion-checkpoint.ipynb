{
 "cells": [
  {
   "cell_type": "code",
   "execution_count": 1,
   "id": "0169017f-50b4-44d4-a81c-753d87420617",
   "metadata": {},
   "outputs": [],
   "source": [
    "import pandas as pd\n",
    "from sklearn.linear_model import PassiveAggressiveClassifier\n",
    "from sklearn.feature_extraction.text import TfidfVectorizer\n",
    "from custom_transformer import TextCleanerTransformer\n",
    "from sklearn.pipeline import Pipeline\n",
    "import pickle"
   ]
  },
  {
   "cell_type": "code",
   "execution_count": 2,
   "id": "71f72ac2-fa84-4916-87a7-0344946745a4",
   "metadata": {},
   "outputs": [],
   "source": [
    "news = '''More than 62,000 illegal immigrants evaded Border Patrol agents in March, averaging about 2,000 a day, according to multiple Customs and Border Protection (CBP) sources – showing the extent to which Border Patrol agents are already being overwhelmed by the massive number of migrants trying to get into the United States. Per those same sources there have been more than 300,000 known gotaways migrants who were not apprehended or turned themselves in and who got past agents -- since fiscal year 2022 began on October 1st. For comparison, former Border Patrol Chief Rodney Scott said there had been approximately 400,000 gotaways in the entirety of FY 2021.Known gotaways are migrants that are seen on cameras, sensors and other means but there is no manpower to get to. Agents will also used a method called \"cutting sign\" in which they use a chain link fence to smooth out the surface of a dirt road – coming back later to observe foot prints. \n",
    "The sources point out that the true number of getaways is likely much higher, because these numbers only account for the ones they know about. The sources told Fox that Del Rio Sector has the most gotaways with about 700 a day, followed by Tucson Sector with over 500 a day.\n",
    "The massive numbers are the latest indicator of a surging migrant crisis on track to eclipse last year, as the Biden administration reportedly moves to end Title 42 public health protections that allow agents to quickly expel migrants at the border. Title 42 was used to expel more than half of the more than 164,000 migrants encountered in February. The 164,973 encounters was up dramatically from 101,099 in Feb. 2021 – and the number is expected to rise in the months ahead.\n",
    "Border Patrol Chief Raul Ortiz on Tuesday said that the U.S. is currently on track to hit one million migrant encounters so far in Fiscal Year 2022, compared to 1.7 million in all of FY 2021. Ortiz described a situation on the ground in which Border Patrol is short on staff, is facing additional challenges due to the ongoing COVID-19 pandemic and where \"every sector is busier than they were back in ‘21.\" He also said that agents have encountered migrants from 157 different countries.\n",
    "The Biden administration is reported to be planning to end Title 42 in May, which has led to fears within the administration and among lawmakers and Border Patrol agents that it will encourage even more migrants to try to get into the U.S.\n",
    "Multiple Border Patrol officials have told Fox News that ending Title 42 would lead to what one agent described as a \"surge on top of a surge\" as word spreads among migrants that they will not be deported. There are also believed to be a considerable number of migrants waiting in Mexican cities waiting for Title 42 to drop.'''"
   ]
  },
  {
   "cell_type": "code",
   "execution_count": 3,
   "id": "ec966dc8-e7c4-4a83-baa0-4c511678a355",
   "metadata": {},
   "outputs": [],
   "source": [
    "fake_news = '''\n",
    "'''"
   ]
  },
  {
   "cell_type": "code",
   "execution_count": 4,
   "id": "d5f08a5e-8bbb-459e-9724-cf36240577ef",
   "metadata": {},
   "outputs": [],
   "source": [
    "data = pd.Series([news])"
   ]
  },
  {
   "cell_type": "code",
   "execution_count": 5,
   "id": "9fa6c1dc-c4d4-46d9-aa2a-d80d7323b33c",
   "metadata": {},
   "outputs": [],
   "source": [
    "pipeline = pickle.load(open('pipeline', 'rb'))"
   ]
  },
  {
   "cell_type": "code",
   "execution_count": 6,
   "id": "414c762e-0000-4780-bfaf-75ed7c362ae3",
   "metadata": {},
   "outputs": [
    {
     "data": {
      "text/plain": [
       "0"
      ]
     },
     "execution_count": 6,
     "metadata": {},
     "output_type": "execute_result"
    }
   ],
   "source": [
    "pipeline.predict(data)[0]"
   ]
  },
  {
   "cell_type": "code",
   "execution_count": null,
   "id": "ffca6cfa-838f-49bc-9d01-cf69a887b180",
   "metadata": {},
   "outputs": [],
   "source": []
  }
 ],
 "metadata": {
  "kernelspec": {
   "display_name": "Python [conda env:nlp]",
   "language": "python",
   "name": "conda-env-nlp-py"
  },
  "language_info": {
   "codemirror_mode": {
    "name": "ipython",
    "version": 3
   },
   "file_extension": ".py",
   "mimetype": "text/x-python",
   "name": "python",
   "nbconvert_exporter": "python",
   "pygments_lexer": "ipython3",
   "version": "3.7.11"
  }
 },
 "nbformat": 4,
 "nbformat_minor": 5
}
